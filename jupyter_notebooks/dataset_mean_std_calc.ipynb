{
 "cells": [
  {
   "cell_type": "markdown",
   "metadata": {},
   "source": [
    "This file is used for calculating the mean and std of the dataset in order to normalize image tensors before training the neural network."
   ]
  },
  {
   "cell_type": "markdown",
   "metadata": {},
   "source": [
    "Gain Access to Google Drive"
   ]
  },
  {
   "cell_type": "code",
   "execution_count": 1,
   "metadata": {
    "colab": {
     "base_uri": "https://localhost:8080/"
    },
    "executionInfo": {
     "elapsed": 32826,
     "status": "ok",
     "timestamp": 1739558401297,
     "user": {
      "displayName": "George Konstant",
      "userId": "11147267804413234934"
     },
     "user_tz": -120
    },
    "id": "subzRL5p059_",
    "outputId": "d1158bc4-66b7-4f7a-a0d5-e86d2ae3902b"
   },
   "outputs": [
    {
     "name": "stdout",
     "output_type": "stream",
     "text": [
      "Mounted at /content/drive\n"
     ]
    }
   ],
   "source": [
    "from google.colab import drive\n",
    "drive.mount('/content/drive')"
   ]
  },
  {
   "cell_type": "markdown",
   "metadata": {},
   "source": [
    "Unzip the dataset file"
   ]
  },
  {
   "cell_type": "code",
   "execution_count": null,
   "metadata": {
    "executionInfo": {
     "elapsed": 99740,
     "status": "ok",
     "timestamp": 1739558501026,
     "user": {
      "displayName": "George Konstant",
      "userId": "11147267804413234934"
     },
     "user_tz": -120
    },
    "id": "nGqDGrA61jT9"
   },
   "outputs": [],
   "source": [
    "!unzip -q 'DATASET_ZIP_FILE_PATH'"
   ]
  },
  {
   "cell_type": "code",
   "execution_count": 3,
   "metadata": {
    "colab": {
     "base_uri": "https://localhost:8080/"
    },
    "executionInfo": {
     "elapsed": 10,
     "status": "ok",
     "timestamp": 1739558501026,
     "user": {
      "displayName": "George Konstant",
      "userId": "11147267804413234934"
     },
     "user_tz": -120
    },
    "id": "TBJh1Dou1meF",
    "outputId": "e06e48e6-cd95-4c56-a14f-f1488690379a"
   },
   "outputs": [
    {
     "name": "stdout",
     "output_type": "stream",
     "text": [
      "/bin/bash: line 1: nvidia-smi: command not found\n"
     ]
    }
   ],
   "source": [
    "!nvidia-smi"
   ]
  },
  {
   "cell_type": "code",
   "execution_count": 4,
   "metadata": {
    "executionInfo": {
     "elapsed": 12507,
     "status": "ok",
     "timestamp": 1739558513527,
     "user": {
      "displayName": "George Konstant",
      "userId": "11147267804413234934"
     },
     "user_tz": -120
    },
    "id": "oEOnnCWd1nA-"
   },
   "outputs": [],
   "source": [
    "import torch\n",
    "from torch.utils.data import DataLoader,Dataset\n",
    "from torchvision import datasets\n",
    "import torchvision.transforms.v2 as transforms"
   ]
  },
  {
   "cell_type": "code",
   "execution_count": null,
   "metadata": {
    "executionInfo": {
     "elapsed": 11,
     "status": "ok",
     "timestamp": 1739558513527,
     "user": {
      "displayName": "George Konstant",
      "userId": "11147267804413234934"
     },
     "user_tz": -120
    },
    "id": "qAHY7zSR4DPX"
   },
   "outputs": [],
   "source": [
    "train_dir = \"TRAIN_SET_PATH\"\n",
    "val_dir = \"VALIDATION_SET_PATH\"\n",
    "test_dir = \"TEST_SET_PATH\""
   ]
  },
  {
   "cell_type": "code",
   "execution_count": 6,
   "metadata": {
    "colab": {
     "base_uri": "https://localhost:8080/"
    },
    "executionInfo": {
     "elapsed": 847,
     "status": "ok",
     "timestamp": 1739558514365,
     "user": {
      "displayName": "George Konstant",
      "userId": "11147267804413234934"
     },
     "user_tz": -120
    },
    "id": "aWYkBpbW23xf",
    "outputId": "83def615-84f3-4823-892b-0a84efc93f5e"
   },
   "outputs": [
    {
     "name": "stderr",
     "output_type": "stream",
     "text": [
      "/usr/local/lib/python3.11/dist-packages/torchvision/transforms/v2/_deprecated.py:42: UserWarning: The transform `ToTensor()` is deprecated and will be removed in a future release. Instead, please use `v2.Compose([v2.ToImage(), v2.ToDtype(torch.float32, scale=True)])`.Output is equivalent up to float precision.\n",
      "  warnings.warn(\n"
     ]
    }
   ],
   "source": [
    "transforms = transforms.Compose([transforms.Resize((224,224)),transforms.ToTensor()])\n",
    "\n",
    "train_dataset = datasets.ImageFolder(root=train_dir,transform=transforms)\n",
    "val_dataset = datasets.ImageFolder(root=val_dir,transform=transforms)\n",
    "test_dataset = datasets.ImageFolder(root=test_dir,transform=transforms)\n",
    "\n",
    "dataset = torch.utils.data.ConcatDataset([train_dataset,val_dataset,test_dataset])\n",
    "data_loader = DataLoader(dataset,batch_size=32,num_workers=0,shuffle=False)"
   ]
  },
  {
   "cell_type": "markdown",
   "metadata": {},
   "source": [
    "Calculate mean and std based on code from pytorch forums https://discuss.pytorch.org/t/computing-the-mean-and-std-of-dataset/34949/32"
   ]
  },
  {
   "cell_type": "code",
   "execution_count": 9,
   "metadata": {
    "colab": {
     "base_uri": "https://localhost:8080/"
    },
    "executionInfo": {
     "elapsed": 958460,
     "status": "ok",
     "timestamp": 1739559487324,
     "user": {
      "displayName": "George Konstant",
      "userId": "11147267804413234934"
     },
     "user_tz": -120
    },
    "id": "2PivvDDH7dIf",
    "outputId": "63a52fcd-01bd-44b8-c7e4-611794962209"
   },
   "outputs": [
    {
     "name": "stdout",
     "output_type": "stream",
     "text": [
      "tensor([0.5691, 0.4458, 0.3910]) tensor([0.2746, 0.2446, 0.2383])\n"
     ]
    }
   ],
   "source": [
    "mean = 0.0\n",
    "for images, _ in data_loader:\n",
    "    batch_samples = images.size(0)\n",
    "    images = images.view(batch_samples, images.size(1), -1)\n",
    "    mean += images.mean(2).sum(0)\n",
    "mean = mean / len(data_loader.dataset)\n",
    "\n",
    "var = 0.0\n",
    "for images, _ in data_loader:\n",
    "    batch_samples = images.size(0)\n",
    "    images = images.view(batch_samples, images.size(1), -1)\n",
    "    var += ((images - mean.unsqueeze(1))**2).sum([0,2])\n",
    "std = torch.sqrt(var / (len(data_loader.dataset)*224*224))\n",
    "\n",
    "print(mean,std)"
   ]
  }
 ],
 "metadata": {
  "colab": {
   "authorship_tag": "ABX9TyP0XTLLsvZ1wM9AEjt2lEOS",
   "provenance": []
  },
  "kernelspec": {
   "display_name": "Python 3",
   "name": "python3"
  },
  "language_info": {
   "name": "python"
  }
 },
 "nbformat": 4,
 "nbformat_minor": 0
}
