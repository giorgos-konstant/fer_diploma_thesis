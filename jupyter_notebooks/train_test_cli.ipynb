{
 "cells": [
  {
   "cell_type": "code",
   "execution_count": 1,
   "metadata": {
    "colab": {
     "base_uri": "https://localhost:8080/"
    },
    "executionInfo": {
     "elapsed": 7073,
     "status": "ok",
     "timestamp": 1739566313421,
     "user": {
      "displayName": "George Konstant",
      "userId": "11147267804413234934"
     },
     "user_tz": -120
    },
    "id": "BG8d174j6msN",
    "outputId": "0233e720-87df-453e-d1cf-09bc9448890c"
   },
   "outputs": [
    {
     "name": "stdout",
     "output_type": "stream",
     "text": [
      "Collecting torcheval\n",
      "  Downloading torcheval-0.0.7-py3-none-any.whl.metadata (8.6 kB)\n",
      "Requirement already satisfied: typing-extensions in /usr/local/lib/python3.11/dist-packages (from torcheval) (4.12.2)\n",
      "Downloading torcheval-0.0.7-py3-none-any.whl (179 kB)\n",
      "\u001b[?25l   \u001b[90m━━━━━━━━━━━━━━━━━━━━━━━━━━━━━━━━━━━━━━━━\u001b[0m \u001b[32m0.0/179.2 kB\u001b[0m \u001b[31m?\u001b[0m eta \u001b[36m-:--:--\u001b[0m\r\u001b[2K   \u001b[90m━━━━━━━━━━━━━━━━━━━━━━━━━━━━━━━━━━━━━━━━\u001b[0m \u001b[32m179.2/179.2 kB\u001b[0m \u001b[31m15.6 MB/s\u001b[0m eta \u001b[36m0:00:00\u001b[0m\n",
      "\u001b[?25hInstalling collected packages: torcheval\n",
      "Successfully installed torcheval-0.0.7\n",
      "Collecting xlsxwriter\n",
      "  Downloading XlsxWriter-3.2.2-py3-none-any.whl.metadata (2.8 kB)\n",
      "Downloading XlsxWriter-3.2.2-py3-none-any.whl (165 kB)\n",
      "\u001b[2K   \u001b[90m━━━━━━━━━━━━━━━━━━━━━━━━━━━━━━━━━━━━━━━━\u001b[0m \u001b[32m165.1/165.1 kB\u001b[0m \u001b[31m14.0 MB/s\u001b[0m eta \u001b[36m0:00:00\u001b[0m\n",
      "\u001b[?25hInstalling collected packages: xlsxwriter\n",
      "Successfully installed xlsxwriter-3.2.2\n"
     ]
    }
   ],
   "source": [
    "!pip install torcheval\n",
    "!pip install xlsxwriter"
   ]
  },
  {
   "cell_type": "code",
   "execution_count": 2,
   "metadata": {
    "executionInfo": {
     "elapsed": 11,
     "status": "ok",
     "timestamp": 1739566313422,
     "user": {
      "displayName": "George Konstant",
      "userId": "11147267804413234934"
     },
     "user_tz": -120
    },
    "id": "LQaDz_P57Qsf"
   },
   "outputs": [],
   "source": [
    "import sys"
   ]
  },
  {
   "cell_type": "code",
   "execution_count": 3,
   "metadata": {
    "colab": {
     "base_uri": "https://localhost:8080/"
    },
    "executionInfo": {
     "elapsed": 28405,
     "status": "ok",
     "timestamp": 1739566341818,
     "user": {
      "displayName": "George Konstant",
      "userId": "11147267804413234934"
     },
     "user_tz": -120
    },
    "id": "_P5ex-X567H7",
    "outputId": "edfb58c4-2ab7-4413-d804-d5dce5a2eb61"
   },
   "outputs": [
    {
     "name": "stdout",
     "output_type": "stream",
     "text": [
      "Mounted at /content/drive\n"
     ]
    }
   ],
   "source": [
    "from google.colab import drive\n",
    "drive.mount('/content/drive')"
   ]
  },
  {
   "cell_type": "code",
   "execution_count": null,
   "metadata": {
    "executionInfo": {
     "elapsed": 17,
     "status": "ok",
     "timestamp": 1739566341819,
     "user": {
      "displayName": "George Konstant",
      "userId": "11147267804413234934"
     },
     "user_tz": -120
    },
    "id": "IGng9obR8qEm"
   },
   "outputs": [],
   "source": [
    "sys.path.append('UTIL_FILES_PATH') #util files contain function important for the cli training and testing script to work"
   ]
  },
  {
   "cell_type": "code",
   "execution_count": null,
   "metadata": {
    "executionInfo": {
     "elapsed": 70465,
     "status": "ok",
     "timestamp": 1739566412272,
     "user": {
      "displayName": "George Konstant",
      "userId": "11147267804413234934"
     },
     "user_tz": -120
    },
    "id": "QFHNncTb7Oge"
   },
   "outputs": [],
   "source": [
    "!unzip -q \"DATASET_ZIP_FILE_PATH\""
   ]
  },
  {
   "cell_type": "code",
   "execution_count": 6,
   "metadata": {
    "colab": {
     "base_uri": "https://localhost:8080/"
    },
    "executionInfo": {
     "elapsed": 22,
     "status": "ok",
     "timestamp": 1739566412272,
     "user": {
      "displayName": "George Konstant",
      "userId": "11147267804413234934"
     },
     "user_tz": -120
    },
    "id": "JGBhjXCRqPsp",
    "outputId": "10eeb324-4ff5-4a27-e14e-f4db93f4869d"
   },
   "outputs": [
    {
     "name": "stdout",
     "output_type": "stream",
     "text": [
      "Fri Feb 14 20:53:31 2025       \n",
      "+-----------------------------------------------------------------------------------------+\n",
      "| NVIDIA-SMI 550.54.15              Driver Version: 550.54.15      CUDA Version: 12.4     |\n",
      "|-----------------------------------------+------------------------+----------------------+\n",
      "| GPU  Name                 Persistence-M | Bus-Id          Disp.A | Volatile Uncorr. ECC |\n",
      "| Fan  Temp   Perf          Pwr:Usage/Cap |           Memory-Usage | GPU-Util  Compute M. |\n",
      "|                                         |                        |               MIG M. |\n",
      "|=========================================+========================+======================|\n",
      "|   0  Tesla T4                       Off |   00000000:00:04.0 Off |                    0 |\n",
      "| N/A   41C    P8              9W /   70W |       0MiB /  15360MiB |      0%      Default |\n",
      "|                                         |                        |                  N/A |\n",
      "+-----------------------------------------+------------------------+----------------------+\n",
      "                                                                                         \n",
      "+-----------------------------------------------------------------------------------------+\n",
      "| Processes:                                                                              |\n",
      "|  GPU   GI   CI        PID   Type   Process name                              GPU Memory |\n",
      "|        ID   ID                                                               Usage      |\n",
      "|=========================================================================================|\n",
      "|  No running processes found                                                             |\n",
      "+-----------------------------------------------------------------------------------------+\n"
     ]
    }
   ],
   "source": [
    "!nvidia-smi"
   ]
  },
  {
   "cell_type": "code",
   "execution_count": null,
   "metadata": {
    "executionInfo": {
     "elapsed": 10,
     "status": "ok",
     "timestamp": 1739566412273,
     "user": {
      "displayName": "George Konstant",
      "userId": "11147267804413234934"
     },
     "user_tz": -120
    },
    "id": "zGM0KnkUrk2A"
   },
   "outputs": [],
   "source": [
    "# !python /utils/fer_models.py\n",
    "# !python /utils/helpers.py\n",
    "# tensor([0.5474, 0.4259, 0.3695]) tensor([0.2782, 0.2465, 0.2398])\n",
    "#tensor([0.5691, 0.4458, 0.3910]) tensor([0.2746, 0.2446, 0.2383]) for only affectnet, no gen images"
   ]
  },
  {
   "cell_type": "markdown",
   "metadata": {},
   "source": [
    "Training and testing is done with cli commands that utilize argument parser to allow the user to clearly state the parameters for training, such as the base model, number of epochs, k-fold validation, log files paths. All info can be shown with : !python /utils/train.py --help"
   ]
  },
  {
   "cell_type": "code",
   "execution_count": null,
   "metadata": {
    "colab": {
     "base_uri": "https://localhost:8080/"
    },
    "collapsed": true,
    "executionInfo": {
     "elapsed": 4768226,
     "status": "ok",
     "timestamp": 1739564939281,
     "user": {
      "displayName": "George Konstant",
      "userId": "11147267804413234934"
     },
     "user_tz": -120
    },
    "id": "BToBbM3OnleS",
    "outputId": "d01f86ff-c759-4608-ff3a-358a968a23c1"
   },
   "outputs": [
    {
     "name": "stdout",
     "output_type": "stream",
     "text": [
      "Train-Validation-Test Split 229.920-28.740-28.741\n",
      "Train-Validation-Test % Split 79-9-10\n",
      "Train Set\n",
      "{'anger': 20219, 'disgust': 3455, 'fear': 5525, 'happy': 107867, 'neutral': 60243, 'sad': 20895, 'surprise': 11716}\n",
      "Valid Set\n",
      "{'anger': 2606, 'disgust': 430, 'fear': 668, 'happy': 13478, 'neutral': 7544, 'sad': 2578, 'surprise': 1436}\n",
      "Test Set\n",
      "{'anger': 2557, 'disgust': 418, 'fear': 685, 'happy': 13570, 'neutral': 7587, 'sad': 2486, 'surprise': 1438}\n",
      "Train-Validation-Test Split Batches 3593-450-450\n",
      "\n",
      "EfficientNet FEClassifier - Params: 7.71M\n",
      "\n",
      "Epoch 1/50 LR = 0.001: 100% 3593/3593 [05:49<00:00, 10.27batch/s]\n",
      "Validation on Epoch 1/50: 100% 450/450 [00:15<00:00, 29.93batch/s]\n",
      "Epoch 1: Training Loss = 1.064 Validation Loss = 0.802 LR = 1.0e-03 Duration = 06:06 mm:ss\n",
      "f1_score = 0.285 val_f1_score = 0.393 acc = 0.622 val_acc = 0.713 prec = 0.387 val_prec = 0.560 rec = 0.281 val_rec = 0.384 auroc = 0.788 val_auroc = 0.894\n",
      "Epoch 2/50 LR = 0.001: 100% 3593/3593 [05:48<00:00, 10.30batch/s]\n",
      "Validation on Epoch 2/50: 100% 450/450 [00:15<00:00, 28.52batch/s]\n",
      "Epoch 2: Training Loss = 0.764 Validation Loss = 0.725 LR = 1.0e-03 Duration = 06:06 mm:ss\n",
      "f1_score = 0.459 val_f1_score = 0.463 acc = 0.726 val_acc = 0.739 prec = 0.571 val_prec = 0.605 rec = 0.438 val_rec = 0.446 auroc = 0.903 val_auroc = 0.919\n",
      "Epoch 3/50 LR = 0.001: 100% 3593/3593 [05:48<00:00, 10.30batch/s]\n",
      "Validation on Epoch 3/50: 100% 450/450 [00:14<00:00, 30.50batch/s]\n",
      "Epoch 3: Training Loss = 0.710 Validation Loss = 0.687 LR = 1.0e-03 Duration = 06:04 mm:ss\n",
      "f1_score = 0.498 val_f1_score = 0.510 acc = 0.742 val_acc = 0.751 prec = 0.590 val_prec = 0.624 rec = 0.473 val_rec = 0.470 auroc = 0.920 val_auroc = 0.926\n",
      "Epoch 4/50 LR = 0.001: 100% 3593/3593 [05:48<00:00, 10.30batch/s]\n",
      "Validation on Epoch 4/50: 100% 450/450 [00:16<00:00, 26.66batch/s]\n",
      "Epoch 4: Training Loss = 0.678 Validation Loss = 0.674 LR = 1.0e-03 Duration = 06:06 mm:ss\n",
      "f1_score = 0.532 val_f1_score = 0.548 acc = 0.753 val_acc = 0.756 prec = 0.614 val_prec = 0.630 rec = 0.501 val_rec = 0.515 auroc = 0.928 val_auroc = 0.931\n",
      "Epoch 5/50 LR = 0.001: 100% 3593/3593 [05:48<00:00, 10.30batch/s]\n",
      "Validation on Epoch 5/50: 100% 450/450 [00:16<00:00, 27.48batch/s]\n",
      "Epoch 5: Training Loss = 0.659 Validation Loss = 0.647 LR = 1.0e-03 Duration = 06:06 mm:ss\n",
      "f1_score = 0.550 val_f1_score = 0.540 acc = 0.759 val_acc = 0.767 prec = 0.623 val_prec = 0.683 rec = 0.518 val_rec = 0.505 auroc = 0.933 val_auroc = 0.935\n",
      "Epoch 6/50 LR = 0.001: 100% 3593/3593 [05:48<00:00, 10.30batch/s]\n",
      "Validation on Epoch 6/50: 100% 450/450 [00:16<00:00, 26.68batch/s]\n",
      "Epoch 6: Training Loss = 0.643 Validation Loss = 0.641 LR = 1.0e-03 Duration = 06:06 mm:ss\n",
      "f1_score = 0.565 val_f1_score = 0.576 acc = 0.765 val_acc = 0.767 prec = 0.637 val_prec = 0.618 rec = 0.531 val_rec = 0.548 auroc = 0.936 val_auroc = 0.936\n",
      "Epoch 7/50 LR = 0.001: 100% 3593/3593 [05:48<00:00, 10.31batch/s]\n",
      "Validation on Epoch 7/50: 100% 450/450 [00:17<00:00, 26.41batch/s]\n",
      "Epoch 7: Training Loss = 0.631 Validation Loss = 0.653 LR = 1.0e-03 Duration = 06:06 mm:ss\n",
      "f1_score = 0.575 val_f1_score = 0.579 acc = 0.767 val_acc = 0.756 prec = 0.645 val_prec = 0.624 rec = 0.540 val_rec = 0.563 auroc = 0.939 val_auroc = 0.936\n",
      "Epoch 8/50 LR = 0.001: 100% 3593/3593 [05:48<00:00, 10.31batch/s]\n",
      "Validation on Epoch 8/50: 100% 450/450 [00:14<00:00, 30.48batch/s]\n",
      "Epoch 8: Training Loss = 0.621 Validation Loss = 0.627 LR = 1.0e-03 Duration = 06:04 mm:ss\n",
      "f1_score = 0.584 val_f1_score = 0.587 acc = 0.772 val_acc = 0.770 prec = 0.651 val_prec = 0.650 rec = 0.549 val_rec = 0.555 auroc = 0.942 val_auroc = 0.939\n",
      "Epoch 9/50 LR = 0.001: 100% 3593/3593 [05:48<00:00, 10.30batch/s]\n",
      "Validation on Epoch 9/50: 100% 450/450 [00:16<00:00, 26.71batch/s]\n",
      "Epoch 9: Training Loss = 0.610 Validation Loss = 0.640 LR = 1.0e-03 Duration = 06:06 mm:ss\n",
      "f1_score = 0.592 val_f1_score = 0.563 acc = 0.775 val_acc = 0.767 prec = 0.655 val_prec = 0.676 rec = 0.557 val_rec = 0.538 auroc = 0.944 val_auroc = 0.939\n",
      "Epoch 10/50 LR = 0.001: 100% 3593/3593 [05:48<00:00, 10.31batch/s]\n",
      "Validation on Epoch 10/50: 100% 450/450 [00:16<00:00, 27.28batch/s]\n",
      "Epoch 10: Training Loss = 0.599 Validation Loss = 0.635 LR = 1.0e-03 Duration = 06:06 mm:ss\n",
      "f1_score = 0.601 val_f1_score = 0.594 acc = 0.778 val_acc = 0.768 prec = 0.663 val_prec = 0.618 rec = 0.565 val_rec = 0.583 auroc = 0.946 val_auroc = 0.940\n",
      "Epoch 11/50 LR = 0.001: 100% 3593/3593 [05:48<00:00, 10.31batch/s]\n",
      "Validation on Epoch 11/50: 100% 450/450 [00:15<00:00, 29.60batch/s]\n",
      "Epoch 11: Training Loss = 0.592 Validation Loss = 0.624 LR = 9.0e-04 Duration = 06:05 mm:ss\n",
      "f1_score = 0.608 val_f1_score = 0.583 acc = 0.781 val_acc = 0.773 prec = 0.669 val_prec = 0.665 rec = 0.572 val_rec = 0.546 auroc = 0.947 val_auroc = 0.942\n",
      "Epoch 12/50 LR = 0.0009000000000000001: 100% 3593/3593 [05:48<00:00, 10.31batch/s]\n",
      "Validation on Epoch 12/50: 100% 450/450 [00:15<00:00, 29.64batch/s]\n",
      "Epoch 12: Training Loss = 0.578 Validation Loss = 0.619 LR = 9.0e-04 Duration = 06:05 mm:ss\n",
      "f1_score = 0.618 val_f1_score = 0.584 acc = 0.785 val_acc = 0.773 prec = 0.677 val_prec = 0.680 rec = 0.582 val_rec = 0.538 auroc = 0.950 val_auroc = 0.942\n",
      "Epoch 13/50 LR = 0.0009000000000000001: 100% 3593/3593 [05:48<00:00, 10.31batch/s]\n",
      "Validation on Epoch 13/50: 100% 450/450 [00:14<00:00, 30.34batch/s]\n",
      "Epoch 13: Training Loss = 0.568 Validation Loss = 0.622 LR = 9.0e-04 Duration = 06:04 mm:ss\n",
      "f1_score = 0.624 val_f1_score = 0.593 acc = 0.788 val_acc = 0.771 prec = 0.681 val_prec = 0.629 rec = 0.589 val_rec = 0.570 auroc = 0.952 val_auroc = 0.943\n",
      "Early Stopping. Weights loaded from best epoch 8\n",
      "---------------------- Total Training Time: 1:19:17 hh:mm:ss ---------------------\n",
      "Saved training data to excel successfully.\n",
      "Dictionary saved to json.\n"
     ]
    }
   ],
   "source": [
    "!python /utils/train.py \\\n",
    "  --base-model 'efficientnet' \\\n",
    "  --train-dir \"TRAIN_SET_PATH\" \\\n",
    "  --valid-dir \"VALIDATION_SET_PATH\" \\\n",
    "  --test-dir \"TEST_SET_PATH\" \\\n",
    "  --log-dir \"LOG_FILE_PATH\" \\\n",
    "  --out-xlsx \"XLSX_FILE_PATH\" \\\n",
    "  --epochs 50 \\\n",
    "  --batch-size 64 \\\n",
    "  --model-save-path /content/effnetb2.pt"
   ]
  },
  {
   "cell_type": "markdown",
   "metadata": {},
   "source": [
    "Testing the model includes calculating the average loss and classification metrics for the entirety of the dataset, the confusion matrix, and class-specific metrics to account for emotion-specific model performance."
   ]
  },
  {
   "cell_type": "code",
   "execution_count": null,
   "metadata": {},
   "outputs": [],
   "source": [
    "!python /utils/test.py \\\n",
    "  --base-model 'efficientnet' \\\n",
    "  --model-path /content/effnetb2.pt \\\n",
    "  --test-loader-path /content/test_loader.pth"
   ]
  }
 ],
 "metadata": {
  "accelerator": "GPU",
  "colab": {
   "authorship_tag": "ABX9TyNWf75Ew1WhtKxb1KD3znDh",
   "gpuType": "T4",
   "provenance": []
  },
  "kernelspec": {
   "display_name": "Python 3",
   "name": "python3"
  },
  "language_info": {
   "name": "python"
  }
 },
 "nbformat": 4,
 "nbformat_minor": 0
}
